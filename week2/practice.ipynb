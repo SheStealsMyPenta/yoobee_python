{
 "cells": [
  {
   "cell_type": "code",
   "execution_count": 3,
   "id": "e1d873ab",
   "metadata": {},
   "outputs": [
    {
     "name": "stdout",
     "output_type": "stream",
     "text": [
      "7\n"
     ]
    }
   ],
   "source": [
    "X = 7.2 \n",
    "x_round = round(X)\n",
    "print(x_round)"
   ]
  },
  {
   "cell_type": "code",
   "execution_count": 4,
   "id": "a09ef4f3",
   "metadata": {},
   "outputs": [
    {
     "name": "stdout",
     "output_type": "stream",
     "text": [
      "1\n"
     ]
    }
   ],
   "source": [
    "Y = -1\n",
    "y_abs = abs(Y)\n",
    "print(y_abs)"
   ]
  },
  {
   "cell_type": "code",
   "execution_count": 4,
   "id": "7a3d7e03",
   "metadata": {},
   "outputs": [
    {
     "data": {
      "text/plain": [
       "1.56"
      ]
     },
     "execution_count": 4,
     "metadata": {},
     "output_type": "execute_result"
    }
   ],
   "source": [
    "number_l, number_w = input(\"Input value (L & W): \").split()\n",
    "number_l =float(number_l)\n",
    "number_w = float(number_w)\n",
    "def area (number_l, number_w):\n",
    "    Area_lan = number_l* number_w\n",
    "    return (Area_lan)\n",
    "area(number_l,number_w)\n"
   ]
  },
  {
   "cell_type": "code",
   "execution_count": 7,
   "id": "ede7015d",
   "metadata": {},
   "outputs": [
    {
     "name": "stdout",
     "output_type": "stream",
     "text": [
      "3! = 6\n"
     ]
    }
   ],
   "source": [
    "number = int(input(\"number ：\"))\n",
    "\n",
    "if number == 0 or number == 1:\n",
    "    print(1)\n",
    "else:\n",
    "    result = 1\n",
    "    for i in range(2, number + 1):\n",
    "        result *= i\n",
    "    print(f\"{number}! = {result}\")"
   ]
  }
 ],
 "metadata": {
  "kernelspec": {
   "display_name": "base",
   "language": "python",
   "name": "python3"
  },
  "language_info": {
   "codemirror_mode": {
    "name": "ipython",
    "version": 3
   },
   "file_extension": ".py",
   "mimetype": "text/x-python",
   "name": "python",
   "nbconvert_exporter": "python",
   "pygments_lexer": "ipython3",
   "version": "3.9.12"
  }
 },
 "nbformat": 4,
 "nbformat_minor": 5
}
