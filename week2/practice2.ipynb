{
 "cells": [
  {
   "cell_type": "code",
   "execution_count": null,
   "id": "b58ca015",
   "metadata": {},
   "outputs": [],
   "source": [
    "pic = fetchPictureFromCamura()\n",
    "\n",
    "listOfPeople = getEachPeoplesFace(pic)\n",
    "\n",
    "fetchListAndInfo()\n",
    "#loop for people info and face\n",
    "peoplethatNotAttentToclass=  recognizeFaceAndInfo(listOfPeople,Info)\n",
    "\n",
    "\n",
    "Class: StudentInfo\n",
    "\n",
    "Class: CamereInterface\n",
    "\n",
    "Class: attendenceSystem\n",
    "\n",
    "\n"
   ]
  },
  {
   "cell_type": "code",
   "execution_count": null,
   "id": "584384d5",
   "metadata": {},
   "outputs": [],
   "source": [
    "class: Factorial\n",
    "    __init__(self, number):\n",
    "        self.number = number\n",
    "    calculate(self):\n",
    "        number = int(input(\"number ：\"))\n",
    "        if number == 0 or number == 1:\n",
    "            print(1)\n",
    "        else:\n",
    "        result = 1\n",
    "    for i in range(2, number + 1):\n",
    "        result *= i\n",
    "    print(f\"{number}! = {result}\")"
   ]
  }
 ],
 "metadata": {
  "language_info": {
   "name": "python"
  }
 },
 "nbformat": 4,
 "nbformat_minor": 5
}
