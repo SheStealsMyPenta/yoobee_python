{
 "cells": [
  {
   "cell_type": "code",
   "execution_count": null,
   "id": "b58ca015",
   "metadata": {},
   "outputs": [],
   "source": [
    "pic = fetchPictureFromCamura()\n",
    "\n",
    "listOfPeople = getEachPeoplesFace(pic)\n",
    "\n",
    "fetchListAndInfo()\n",
    "#loop for people info and face\n",
    "peoplethatNotAttentToclass=  recognizeFaceAndInfo(listOfPeople,Info)\n",
    "\n",
    "\n",
    "Class: StudentInfo\n",
    "\n",
    "Class: CamereInterface\n",
    "\n",
    "Class: attendenceSystem\n",
    "\n",
    "\n"
   ]
  },
  {
   "cell_type": "code",
   "execution_count": null,
   "id": "584384d5",
   "metadata": {},
   "outputs": [],
   "source": [
    "class: Factorial\n",
    "    __init__(self, number):\n",
    "      self.number = number\n",
    "      def calculate(self):\n",
    "        if isPrime(self.number):\n",
    "            result = 1\n",
    "            return\n",
    "        number = int(input(\"number ：\"))\n",
    "        if number == 0 or number == 1:\n",
    "            print(1)\n",
    "        else:\n",
    "        result = 1\n",
    "      def isPrime(self):\n",
    "        if self.number < 2:\n",
    "            return False\n",
    "        for i in range(2, int(self.number ** 0.5) + 1):\n",
    "            if self.number % i == 0:\n",
    "                return False\n",
    "        return True\n",
    "    for i in range(2, number + 1):\n",
    "        result *= i\n",
    "    print(f\"{number}! = {result}\")\n"
   ]
  }
 ],
 "metadata": {
  "language_info": {
   "name": "python"
  }
 },
 "nbformat": 4,
 "nbformat_minor": 5
}
